{
 "cells": [
  {
   "cell_type": "code",
   "execution_count": 1,
   "metadata": {},
   "outputs": [
    {
     "name": "stderr",
     "output_type": "stream",
     "text": [
      "/Users/zihaoxu/ENTER/lib/python3.6/site-packages/h5py/__init__.py:36: FutureWarning: Conversion of the second argument of issubdtype from `float` to `np.floating` is deprecated. In future, it will be treated as `np.float64 == np.dtype(float).type`.\n",
      "  from ._conv import register_converters as _register_converters\n",
      "Using TensorFlow backend.\n"
     ]
    }
   ],
   "source": [
    "import pandas as pd\n",
    "import numpy as np\n",
    "import edward as ed\n",
    "import keras \n",
    "import matplotlib.pyplot as plt\n",
    "import seaborn as sns\n",
    "import tensorflow as tf\n",
    "import matplotlib.pyplot as plt\n",
    "\n",
    "from edward.models import Normal, OneHotCategorical\n",
    "from keras.models import Sequential, load_model\n",
    "from keras.layers import Dense\n",
    "from sklearn.model_selection import train_test_split\n",
    "from sklearn.metrics import confusion_matrix\n",
    "from sklearn.preprocessing import StandardScaler\n",
    "\n",
    "%matplotlib inline\n",
    "sns.set_style('white')"
   ]
  },
  {
   "cell_type": "code",
   "execution_count": 2,
   "metadata": {},
   "outputs": [
    {
     "name": "stdout",
     "output_type": "stream",
     "text": [
      "(6497, 13)\n"
     ]
    }
   ],
   "source": [
    "white = pd.read_csv('../data/white.csv')\n",
    "red = pd.read_csv('../data/red.csv')\n",
    "\n",
    "red['type'] = 1\n",
    "white['type'] = 0\n",
    "\n",
    "wines = red.append(white, ignore_index = True)\n",
    "print(wines.shape)"
   ]
  },
  {
   "cell_type": "code",
   "execution_count": 3,
   "metadata": {},
   "outputs": [],
   "source": [
    "def neural_network(x, W_0, W_1, W_2, W_3,\\\n",
    "                   b_0, b_1, b_2, b_3):\n",
    "    h = tf.nn.relu(tf.matmul(x, W_0) + b_0)\n",
    "    h = tf.nn.relu(tf.matmul(h, W_1) + b_1)\n",
    "    h = tf.nn.relu(tf.matmul(h, W_2) + b_2)\n",
    "    h = tf.matmul(h, W_3) + b_3\n",
    "    return h"
   ]
  },
  {
   "cell_type": "markdown",
   "metadata": {},
   "source": [
    "## Data preprocessing"
   ]
  },
  {
   "cell_type": "code",
   "execution_count": 4,
   "metadata": {},
   "outputs": [],
   "source": [
    "# Number of classes\n",
    "K = 2\n",
    "\n",
    "Features = np.array(wines[[c for c in wines.columns if c!='type']])\n",
    "Labels = np.array(wines[['type']])\n",
    "Labels = np.squeeze(np.eye(K,K,dtype=np.int32)[Labels,:])\n",
    "\n",
    "X_train, X_test, y_train, y_test = train_test_split(Features, Labels, test_size = .5, random_state = 42)"
   ]
  },
  {
   "cell_type": "code",
   "execution_count": 5,
   "metadata": {},
   "outputs": [],
   "source": [
    "scalar = StandardScaler().fit(X_train)\n",
    "\n",
    "X_train = scalar.transform(X_train)\n",
    "X_test = scalar.transform(X_test)\n",
    "\n",
    "min_lengh = min(X_train.shape[0], X_test.shape[0])\n",
    "X_train = X_train[:min_lengh, ]\n",
    "y_train = y_train[:min_lengh, ]\n",
    "X_test = X_test[:min_lengh, ]\n",
    "y_test = y_test[:min_lengh, ]"
   ]
  },
  {
   "cell_type": "code",
   "execution_count": 6,
   "metadata": {},
   "outputs": [
    {
     "name": "stdout",
     "output_type": "stream",
     "text": [
      "(3248, 12)\n",
      "(3248, 2)\n"
     ]
    }
   ],
   "source": [
    "print(X_train.shape)\n",
    "print(y_train.shape)"
   ]
  },
  {
   "cell_type": "markdown",
   "metadata": {},
   "source": [
    "# Build BNN model"
   ]
  },
  {
   "cell_type": "code",
   "execution_count": 7,
   "metadata": {},
   "outputs": [],
   "source": [
    "ed.set_seed(47)\n",
    "\n",
    "N = X_train.shape[0]\n",
    "D = X_train.shape[1]"
   ]
  },
  {
   "cell_type": "code",
   "execution_count": 8,
   "metadata": {
    "scrolled": false
   },
   "outputs": [],
   "source": [
    "X = tf.placeholder(tf.float32, [N,D], name=\"X\")\n",
    "\n",
    "# Initialize the weights\n",
    "W_0 = Normal(loc=tf.zeros([D, 12]), scale=tf.ones([D, 12]))\n",
    "W_1 = Normal(loc=tf.zeros([12, 8]), scale=tf.ones([12, 8]))\n",
    "W_2 = Normal(loc=tf.zeros([8, 8]), scale=tf.ones([8, 8]))\n",
    "W_3 = Normal(loc=tf.zeros([8, K]), scale=tf.ones([8, K]))\n",
    "\n",
    "b_0 = Normal(loc=tf.zeros(12), scale=tf.ones(12))\n",
    "b_1 = Normal(loc=tf.zeros(8), scale=tf.ones(8))\n",
    "b_2 = Normal(loc=tf.zeros(8), scale=tf.ones(8))\n",
    "b_3 = Normal(loc=tf.zeros(K), scale=tf.ones(K))\n",
    "\n",
    "Y = OneHotCategorical(logits=neural_network(X, W_0, W_1, W_2, W_3, b_0, b_1, b_2, b_3),\n",
    "                      name=\"Y\")"
   ]
  },
  {
   "cell_type": "code",
   "execution_count": 9,
   "metadata": {},
   "outputs": [],
   "source": [
    "qW_0 = Normal(loc=tf.get_variable(\"qW_0/loc\", [D, 12]),\n",
    "              scale=tf.nn.softplus(tf.get_variable(\"qW_0/scale\", [D, 12])))\n",
    "qW_1 = Normal(loc=tf.get_variable(\"qW_1/loc\", [12, 8]),\n",
    "              scale=tf.nn.softplus(tf.get_variable(\"qW_1/scale\", [12, 8])))\n",
    "qW_2 = Normal(loc=tf.get_variable(\"qW_2/loc\", [8, 8]),\n",
    "              scale=tf.nn.softplus(tf.get_variable(\"qW_2/scale\", [8, 8])))\n",
    "qW_3 = Normal(loc=tf.get_variable(\"qW_3/loc\", [8, K]),\n",
    "              scale=tf.nn.softplus(tf.get_variable(\"qW_3/scale\", [8, K])))\n",
    "\n",
    "\n",
    "qb_0 = Normal(loc=tf.get_variable(\"qb_0/loc\", [12]),\n",
    "              scale=tf.nn.softplus(tf.get_variable(\"qb_0/scale\", [12])))\n",
    "qb_1 = Normal(loc=tf.get_variable(\"qb_1/loc\", [8]),\n",
    "              scale=tf.nn.softplus(tf.get_variable(\"qb_1/scale\", [8])))\n",
    "qb_2 = Normal(loc=tf.get_variable(\"qb_2/loc\", [8]),\n",
    "              scale=tf.nn.softplus(tf.get_variable(\"qb_2/scale\", [8])))\n",
    "qb_3 = Normal(loc=tf.get_variable(\"qb_3/loc\", [K]),\n",
    "              scale=tf.nn.softplus(tf.get_variable(\"qb_3/scale\", [K])))"
   ]
  },
  {
   "cell_type": "code",
   "execution_count": 10,
   "metadata": {},
   "outputs": [
    {
     "name": "stderr",
     "output_type": "stream",
     "text": [
      "/Users/zihaoxu/ENTER/lib/python3.6/site-packages/edward/util/random_variables.py:52: FutureWarning: Conversion of the second argument of issubdtype from `float` to `np.floating` is deprecated. In future, it will be treated as `np.float64 == np.dtype(float).type`.\n",
      "  not np.issubdtype(value.dtype, np.float) and \\\n",
      "/Users/zihaoxu/ENTER/lib/python3.6/site-packages/edward/util/random_variables.py:53: FutureWarning: Conversion of the second argument of issubdtype from `int` to `np.signedinteger` is deprecated. In future, it will be treated as `np.int64 == np.dtype(int).type`.\n",
      "  not np.issubdtype(value.dtype, np.int) and \\\n"
     ]
    },
    {
     "name": "stdout",
     "output_type": "stream",
     "text": [
      "WARNING:tensorflow:From /Users/zihaoxu/ENTER/lib/python3.6/site-packages/tensorflow/contrib/distributions/python/ops/onehot_categorical.py:201: softmax_cross_entropy_with_logits (from tensorflow.python.ops.nn_ops) is deprecated and will be removed in a future version.\n",
      "Instructions for updating:\n",
      "\n",
      "Future major versions of TensorFlow will allow gradients to flow\n",
      "into the labels input on backprop by default.\n",
      "\n",
      "See tf.nn.softmax_cross_entropy_with_logits_v2.\n",
      "\n",
      "{'t': 1, 'loss': 16304.827}\n",
      "{'t': 101, 'loss': 1996.1759}\n",
      "{'t': 201, 'loss': 1839.7888}\n",
      "{'t': 301, 'loss': 1470.6918}\n",
      "{'t': 401, 'loss': 506.48187}\n",
      "{'t': 501, 'loss': 392.26807}\n",
      "{'t': 601, 'loss': 488.99963}\n",
      "{'t': 701, 'loss': 382.49625}\n",
      "{'t': 801, 'loss': 382.4889}\n",
      "{'t': 901, 'loss': 375.67456}\n"
     ]
    },
    {
     "data": {
      "image/png": "[encoded data removed]",
      "text/plain": [
       "<matplotlib.figure.Figure at 0x11fab4d68>"
      ]
     },
     "metadata": {},
     "output_type": "display_data"
    }
   ],
   "source": [
    "# Inference\n",
    "inference = ed.KLqp({W_0: qW_0, b_0: qb_0,\n",
    "                     W_1: qW_1, b_1: qb_1,\n",
    "                     W_2: qW_2, b_2: qb_2,\n",
    "                     W_3: qW_3, b_3: qb_3},\n",
    "                    data={X:X_train,Y:y_train})\n",
    "inference.initialize(n_iter=1000)\n",
    "\n",
    "# Run\n",
    "sess = ed.get_session()\n",
    "init = tf.global_variables_initializer()\n",
    "init.run()\n",
    "loss = []\n",
    "for _ in range(inference.n_iter):\n",
    "    info_dict = inference.update()\n",
    "    if _%100 == 0:\n",
    "        print(info_dict)\n",
    "    loss.append(info_dict['loss'])\n",
    "plt.plot(loss)\n",
    "plt.xlabel('Iterations')\n",
    "plt.ylabel('Loss')\n",
    "plt.savefig('../plots/loss_bnn', fmt = 'png', dpi = 300)"
   ]
  },
  {
   "cell_type": "code",
   "execution_count": 11,
   "metadata": {},
   "outputs": [
    {
     "name": "stderr",
     "output_type": "stream",
     "text": [
      "/Users/zihaoxu/ENTER/lib/python3.6/site-packages/edward/util/random_variables.py:52: FutureWarning: Conversion of the second argument of issubdtype from `float` to `np.floating` is deprecated. In future, it will be treated as `np.float64 == np.dtype(float).type`.\n",
      "  not np.issubdtype(value.dtype, np.float) and \\\n",
      "/Users/zihaoxu/ENTER/lib/python3.6/site-packages/edward/util/random_variables.py:53: FutureWarning: Conversion of the second argument of issubdtype from `int` to `np.signedinteger` is deprecated. In future, it will be treated as `np.int64 == np.dtype(int).type`.\n",
      "  not np.issubdtype(value.dtype, np.int) and \\\n"
     ]
    },
    {
     "name": "stdout",
     "output_type": "stream",
     "text": [
      "Train accuracy:  0.99722904\n",
      "Test accuracy:  0.9950739\n"
     ]
    }
   ],
   "source": [
    "# Evaluation\n",
    "Y_post = ed.copy(Y, {W_0: qW_0, b_0: qb_0,\n",
    "                     W_1: qW_1, b_1: qb_1,\n",
    "                     W_2: qW_2, b_2: qb_2,\n",
    "                     W_3: qW_3, b_3: qb_3,})\n",
    "\n",
    "print('Train accuracy: ',ed.evaluate('categorical_accuracy', data={X:X_train,Y_post:y_train}))\n",
    "print('Test accuracy: ',ed.evaluate('categorical_accuracy', data={X:X_test,Y_post:y_test}))"
   ]
  },
  {
   "cell_type": "code",
   "execution_count": 12,
   "metadata": {},
   "outputs": [],
   "source": [
    "# Use posterior mean of weighs and biases for prediction\n",
    "W_0_p = qW_0.mean().eval()\n",
    "W_1_p = qW_1.mean().eval()\n",
    "W_2_p = qW_2.mean().eval()\n",
    "W_3_p = qW_3.mean().eval()\n",
    "b_0_p = qb_0.mean().eval()\n",
    "b_1_p = qb_1.mean().eval()\n",
    "b_2_p = qb_2.mean().eval()\n",
    "b_3_p = qb_3.mean().eval()"
   ]
  },
  {
   "cell_type": "code",
   "execution_count": 13,
   "metadata": {},
   "outputs": [],
   "source": [
    "# Convert dtype to float32 for testing \n",
    "X_test = np.array(X_test, dtype = np.float32)\n",
    "\n",
    "# Prediction\n",
    "y_pred = np.argmax(neural_network(X_test, W_0_p, W_1_p, W_2_p, W_3_p, \\\n",
    "                   b_0_p, b_1_p, b_2_p, b_3_p).eval(), axis = 1)\n",
    "y_test = np.argmax(y_test, axis = 1)"
   ]
  },
  {
   "cell_type": "code",
   "execution_count": 14,
   "metadata": {
    "scrolled": false
   },
   "outputs": [
    {
     "name": "stdout",
     "output_type": "stream",
     "text": [
      "Test acc: 0.9947660098522167\n"
     ]
    },
    {
     "data": {
      "image/png": "[encoded data removed]",
      "text/plain": [
       "<matplotlib.figure.Figure at 0x1208c5c18>"
      ]
     },
     "metadata": {},
     "output_type": "display_data"
    }
   ],
   "source": [
    "conf = confusion_matrix(y_test, y_pred)\n",
    "print(\"Test acc:\", (conf[0][0] + conf[1][1])/np.sum(conf))\n",
    "sns.heatmap(conf, annot = True)\n",
    "plt.xlabel(\"Predicted Class (0 = white, 1 = red)\")\n",
    "plt.ylabel(\"Actual Class\")\n",
    "plt.savefig('../plots/conf_bnn', fmt = 'png', dpi = 300)\n",
    "plt.show()"
   ]
  },
  {
   "cell_type": "code",
   "execution_count": null,
   "metadata": {},
   "outputs": [],
   "source": []
  },
  {
   "cell_type": "code",
   "execution_count": null,
   "metadata": {},
   "outputs": [],
   "source": []
  },
  {
   "cell_type": "code",
   "execution_count": null,
   "metadata": {},
   "outputs": [],
   "source": []
  },
  {
   "cell_type": "code",
   "execution_count": null,
   "metadata": {},
   "outputs": [],
   "source": []
  }
 ],
 "metadata": {
  "kernelspec": {
   "display_name": "Python 3",
   "language": "python",
   "name": "python3"
  },
  "language_info": {
   "codemirror_mode": {
    "name": "ipython",
    "version": 3
   },
   "file_extension": ".py",
   "mimetype": "text/x-python",
   "name": "python",
   "nbconvert_exporter": "python",
   "pygments_lexer": "ipython3",
   "version": "3.6.3"
  }
 },
 "nbformat": 4,
 "nbformat_minor": 2
}
